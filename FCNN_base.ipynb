{
 "cells": [
  {
   "cell_type": "code",
   "execution_count": null,
   "metadata": {},
   "outputs": [],
   "source": [
    "import pandas as pd\n",
    "from sklearn.model_selection import train_test_split\n",
    "import keras\n",
    "import numpy as np\n",
    "from sklearn.metrics import confusion_matrix\n",
    "import matplotlib.pyplot as plt\n",
    "import seaborn as sns\n",
    "from tensorflow.keras.optimizers import Adam\n",
    "from sklearn.preprocessing import StandardScaler"
   ]
  },
  {
   "cell_type": "markdown",
   "metadata": {},
   "source": [
    "# Read the data\n",
    "\n",
    "* These training data are from the same ant dataset we used for support vector machines.\n",
    "* The response/label/Y variable is species.\n",
    "* The features are morphological measurements from the ants."
   ]
  },
  {
   "cell_type": "code",
   "execution_count": null,
   "metadata": {},
   "outputs": [],
   "source": [
    "# load ants dataset\n",
    "dataframe = pd.read_csv('all_measurments2020x09.csv')\n",
    "\n",
    "# replace species names with zeros and ones\n",
    "dataframe['species'] = dataframe['species'].replace('zeteki', 0)\n",
    "dataframe['species'] = dataframe['species'].replace('fovouros', 1)\n",
    "\n",
    "# get X and Y \n",
    "Y = dataframe['species']\n",
    "X = dataframe.drop(['species','caste', 'country', 'comment', 'bc_num', 'coll_code'], axis=1)\n",
    "\n",
    "# view data\n",
    "dataframe.head()"
   ]
  },
  {
   "cell_type": "markdown",
   "metadata": {},
   "source": [
    "# Prepare training, testing, and validation datasets.\n",
    "* We will use *training data* to train the neural network.\n",
    "* We will use *validation data* to evaluate our model while tuning hyperparameters.\n",
    "* We will use *test data* to obtain an unbiased measure of error for our final model."
   ]
  },
  {
   "cell_type": "code",
   "execution_count": null,
   "metadata": {},
   "outputs": [],
   "source": [
    "# Split the dataset into training, testing, and validation sets\n",
    "# NOTE: DO NOT CHANGE THESE RANDOM_STATE VARIABLES\n",
    "X_train, X_test_val, y_train, y_test_val= train_test_split(X, Y, test_size=0.3, random_state=1234)\n",
    "X_test, X_val, y_test, y_val = train_test_split(X, Y, test_size=0.5, random_state=1234)\n",
    "\n",
    "# Standardize the features (optional but recommended for neural networks)\n",
    "scaler = StandardScaler()\n",
    "X_train_scaled = scaler.fit_transform(X_train)\n",
    "X_val_scaled = scaler.transform(X_val)\n",
    "X_test_scaled = scaler.transform(X_test)"
   ]
  },
  {
   "cell_type": "markdown",
   "metadata": {},
   "source": [
    "# Build the model in Keras\n",
    "\n",
    "Next, we need to define, fit, and evaluate our model. Below, I have set up a simple model. First, fit this model, and evaluate the model on the training and test datasets. \n",
    "\n",
    "In the word document, I ask several questions about the results of changing different aspects of the network. Using these questions as a guide, change the following things and evaluate the accuracy of the model.\n",
    "\n",
    "**CHANGE**:\n",
    "\n",
    "* the number of hidden layers in the network\n",
    "* the number of neurons in hidden layers\n",
    "* the activation function used in the hidden layers"
   ]
  },
  {
   "cell_type": "code",
   "execution_count": null,
   "metadata": {},
   "outputs": [],
   "source": [
    "# build model\n",
    "model = keras.Sequential([\n",
    "    keras.layers.Dense(30, activation='relu', input_shape=(X_train.shape[1],)), # add a hidden layer with 30 neurons and ReLU activation \n",
    "    keras.layers.Dense(1, activation='sigmoid') # add the output layer\n",
    "])\n",
    "\n",
    "print(model.summary())\n",
    "\n",
    "# Compile the model with a specific learning rate\n",
    "model.compile(optimizer=Adam(learning_rate=0.001),\n",
    "              loss='binary_crossentropy',\n",
    "              metrics=['accuracy'])\n",
    "\n",
    "# Train the model\n",
    "history = model.fit(X_train_scaled, y_train, epochs=10, batch_size=32, validation_data=(X_val_scaled, y_val))\n",
    "\n",
    "# Predictions on training and validation data\n",
    "y_train_probs = model.predict(X_train_scaled)\n",
    "y_val_probs = model.predict(X_val_scaled)\n",
    "\n",
    "# Convert probabilities to binary predictions using a threshold (e.g., 0.5)\n",
    "y_train_pred = (y_train_probs > 0.5).astype(int)\n",
    "y_val_pred = (y_val_probs > 0.5).astype(int)\n",
    "\n",
    "# Compute confusion matrices\n",
    "cm_train = confusion_matrix(y_train, y_train_pred)\n",
    "cm_val = confusion_matrix(y_val, y_val_pred)\n",
    "\n",
    "# Plot confusion matrices side by side\n",
    "plt.figure(figsize=(12, 6))\n",
    "\n",
    "plt.subplot(1, 2, 1)\n",
    "sns.heatmap(cm_train, annot=True, fmt='d', cmap='Blues', cbar=False)\n",
    "plt.xlabel('Predicted labels')\n",
    "plt.ylabel('True labels')\n",
    "plt.title('Training Confusion Matrix')\n",
    "\n",
    "plt.subplot(1, 2, 2)\n",
    "sns.heatmap(cm_val, annot=True, fmt='d', cmap='Blues', cbar=False)\n",
    "plt.xlabel('Predicted labels')\n",
    "plt.ylabel('True labels')\n",
    "plt.title('Validation Confusion Matrix')\n",
    "\n",
    "plt.tight_layout()\n",
    "plt.show()"
   ]
  },
  {
   "cell_type": "markdown",
   "metadata": {},
   "source": [
    "# Evaluate your final model on the test dataset\n",
    "\n",
    "**ADD**: Code to evaluate the model you think is most appropriate.\n",
    "\n",
    "**HINT**: Copy, paste, and modify the code for making predictions, coverting probabilities to binary predictions, computing confusion matrices, and plotting confusion matrices. You will need to change the datasets that are used."
   ]
  }
 ],
 "metadata": {
  "kernelspec": {
   "display_name": "base",
   "language": "python",
   "name": "python3"
  },
  "language_info": {
   "codemirror_mode": {
    "name": "ipython",
    "version": 3
   },
   "file_extension": ".py",
   "mimetype": "text/x-python",
   "name": "python",
   "nbconvert_exporter": "python",
   "pygments_lexer": "ipython3",
   "version": "3.10.8"
  }
 },
 "nbformat": 4,
 "nbformat_minor": 2
}
