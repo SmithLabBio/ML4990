{
 "cells": [
  {
   "cell_type": "code",
   "execution_count": 89,
   "id": "6e03e3b4",
   "metadata": {},
   "outputs": [],
   "source": [
    "import pandas as pd\n",
    "import numpy as np\n",
    "from sklearn.model_selection import train_test_split\n",
    "from sklearn.preprocessing import StandardScaler\n",
    "from sklearn.ensemble import RandomForestClassifier\n",
    "from sklearn.metrics import ConfusionMatrixDisplay\n",
    "from sklearn.metrics import accuracy_score\n",
    "from sklearn.inspection import permutation_importance"
   ]
  },
  {
   "cell_type": "markdown",
   "id": "2b8b9eaf",
   "metadata": {},
   "source": [
    "# Get the data"
   ]
  },
  {
   "cell_type": "code",
   "execution_count": 69,
   "id": "b31597df",
   "metadata": {},
   "outputs": [
    {
     "name": "stderr",
     "output_type": "stream",
     "text": [
      "/var/folders/65/60x1_snj20l20780r6ptdn0h0000gn/T/ipykernel_28063/2689870396.py:1: DtypeWarning: Columns (50) have mixed types. Specify dtype option on import or set low_memory=False.\n",
      "  Africa_data = pandas.read_csv(\"Africa_data.txt\", sep=\"\\t\", header=0)\n"
     ]
    },
    {
     "data": {
      "text/html": [
       "<div>\n",
       "<style scoped>\n",
       "    .dataframe tbody tr th:only-of-type {\n",
       "        vertical-align: middle;\n",
       "    }\n",
       "\n",
       "    .dataframe tbody tr th {\n",
       "        vertical-align: top;\n",
       "    }\n",
       "\n",
       "    .dataframe thead th {\n",
       "        text-align: right;\n",
       "    }\n",
       "</style>\n",
       "<table border=\"1\" class=\"dataframe\">\n",
       "  <thead>\n",
       "    <tr style=\"text-align: right;\">\n",
       "      <th></th>\n",
       "      <th>name</th>\n",
       "      <th>n.gps</th>\n",
       "      <th>abs_max_lat</th>\n",
       "      <th>abs_min_lat</th>\n",
       "      <th>length_lat</th>\n",
       "      <th>median_lon</th>\n",
       "      <th>median_lat</th>\n",
       "      <th>area</th>\n",
       "      <th>bio1m</th>\n",
       "      <th>bio1sd</th>\n",
       "      <th>...</th>\n",
       "      <th>bio17sd</th>\n",
       "      <th>bio18m</th>\n",
       "      <th>bio18sd</th>\n",
       "      <th>bio19m</th>\n",
       "      <th>bio19sd</th>\n",
       "      <th>elevm</th>\n",
       "      <th>elevsd</th>\n",
       "      <th>continents</th>\n",
       "      <th>dist</th>\n",
       "      <th>Red.List.status</th>\n",
       "    </tr>\n",
       "  </thead>\n",
       "  <tbody>\n",
       "    <tr>\n",
       "      <th>0</th>\n",
       "      <td>Aaronsohnia pubescens</td>\n",
       "      <td>31</td>\n",
       "      <td>35.166667</td>\n",
       "      <td>26.150000</td>\n",
       "      <td>9.016667</td>\n",
       "      <td>-6.317847</td>\n",
       "      <td>31.450001</td>\n",
       "      <td>8.471561e+11</td>\n",
       "      <td>179.645161</td>\n",
       "      <td>21.021494</td>\n",
       "      <td>...</td>\n",
       "      <td>9.050634</td>\n",
       "      <td>14.032258</td>\n",
       "      <td>8.734926</td>\n",
       "      <td>67.806452</td>\n",
       "      <td>45.120889</td>\n",
       "      <td>104.870968</td>\n",
       "      <td>72.551472</td>\n",
       "      <td>Africa,Europe</td>\n",
       "      <td>global</td>\n",
       "      <td>NaN</td>\n",
       "    </tr>\n",
       "    <tr>\n",
       "      <th>1</th>\n",
       "      <td>Abelmoschus esculentus</td>\n",
       "      <td>37</td>\n",
       "      <td>16.016667</td>\n",
       "      <td>25.670000</td>\n",
       "      <td>41.686667</td>\n",
       "      <td>11.516667</td>\n",
       "      <td>6.866667</td>\n",
       "      <td>1.608146e+13</td>\n",
       "      <td>256.918919</td>\n",
       "      <td>30.402283</td>\n",
       "      <td>...</td>\n",
       "      <td>37.179158</td>\n",
       "      <td>272.243243</td>\n",
       "      <td>207.168531</td>\n",
       "      <td>335.540541</td>\n",
       "      <td>478.145468</td>\n",
       "      <td>145.351351</td>\n",
       "      <td>68.946121</td>\n",
       "      <td>Africa,Asia,Europe,Australia,South America and...</td>\n",
       "      <td>global</td>\n",
       "      <td>NaN</td>\n",
       "    </tr>\n",
       "    <tr>\n",
       "      <th>2</th>\n",
       "      <td>Abelmoschus ficulneus</td>\n",
       "      <td>5</td>\n",
       "      <td>15.125000</td>\n",
       "      <td>16.966670</td>\n",
       "      <td>32.091670</td>\n",
       "      <td>37.033333</td>\n",
       "      <td>5.350000</td>\n",
       "      <td>3.643061e+11</td>\n",
       "      <td>270.800000</td>\n",
       "      <td>12.029131</td>\n",
       "      <td>...</td>\n",
       "      <td>25.812788</td>\n",
       "      <td>307.400000</td>\n",
       "      <td>312.333636</td>\n",
       "      <td>142.200000</td>\n",
       "      <td>267.300767</td>\n",
       "      <td>104.400000</td>\n",
       "      <td>59.672439</td>\n",
       "      <td>Africa,Asia,NA,Australia</td>\n",
       "      <td>global</td>\n",
       "      <td>NaN</td>\n",
       "    </tr>\n",
       "    <tr>\n",
       "      <th>3</th>\n",
       "      <td>Abelmoschus manihot</td>\n",
       "      <td>11</td>\n",
       "      <td>9.350000</td>\n",
       "      <td>22.025600</td>\n",
       "      <td>31.375600</td>\n",
       "      <td>11.450000</td>\n",
       "      <td>4.150000</td>\n",
       "      <td>2.084726e+12</td>\n",
       "      <td>236.454545</td>\n",
       "      <td>26.526830</td>\n",
       "      <td>...</td>\n",
       "      <td>42.956849</td>\n",
       "      <td>294.727273</td>\n",
       "      <td>107.079495</td>\n",
       "      <td>596.545455</td>\n",
       "      <td>471.006659</td>\n",
       "      <td>134.636364</td>\n",
       "      <td>68.026866</td>\n",
       "      <td>Africa,Asia,NA,Australia,South America and the...</td>\n",
       "      <td>global</td>\n",
       "      <td>NaN</td>\n",
       "    </tr>\n",
       "    <tr>\n",
       "      <th>4</th>\n",
       "      <td>Abelmoschus moschatus</td>\n",
       "      <td>19</td>\n",
       "      <td>31.182780</td>\n",
       "      <td>16.333333</td>\n",
       "      <td>47.516113</td>\n",
       "      <td>2.550000</td>\n",
       "      <td>6.490000</td>\n",
       "      <td>1.757908e+13</td>\n",
       "      <td>247.947368</td>\n",
       "      <td>51.744537</td>\n",
       "      <td>...</td>\n",
       "      <td>100.923832</td>\n",
       "      <td>369.052632</td>\n",
       "      <td>325.903782</td>\n",
       "      <td>286.526316</td>\n",
       "      <td>246.123359</td>\n",
       "      <td>137.894737</td>\n",
       "      <td>85.452322</td>\n",
       "      <td>Africa,NA,Asia,Europe,Australia,South America ...</td>\n",
       "      <td>global</td>\n",
       "      <td>NaN</td>\n",
       "    </tr>\n",
       "  </tbody>\n",
       "</table>\n",
       "<p>5 rows × 51 columns</p>\n",
       "</div>"
      ],
      "text/plain": [
       "                     name  n.gps  abs_max_lat  abs_min_lat  length_lat  \\\n",
       "0   Aaronsohnia pubescens     31    35.166667    26.150000    9.016667   \n",
       "1  Abelmoschus esculentus     37    16.016667    25.670000   41.686667   \n",
       "2   Abelmoschus ficulneus      5    15.125000    16.966670   32.091670   \n",
       "3     Abelmoschus manihot     11     9.350000    22.025600   31.375600   \n",
       "4   Abelmoschus moschatus     19    31.182780    16.333333   47.516113   \n",
       "\n",
       "   median_lon  median_lat          area       bio1m     bio1sd  ...  \\\n",
       "0   -6.317847   31.450001  8.471561e+11  179.645161  21.021494  ...   \n",
       "1   11.516667    6.866667  1.608146e+13  256.918919  30.402283  ...   \n",
       "2   37.033333    5.350000  3.643061e+11  270.800000  12.029131  ...   \n",
       "3   11.450000    4.150000  2.084726e+12  236.454545  26.526830  ...   \n",
       "4    2.550000    6.490000  1.757908e+13  247.947368  51.744537  ...   \n",
       "\n",
       "      bio17sd      bio18m     bio18sd      bio19m     bio19sd       elevm  \\\n",
       "0    9.050634   14.032258    8.734926   67.806452   45.120889  104.870968   \n",
       "1   37.179158  272.243243  207.168531  335.540541  478.145468  145.351351   \n",
       "2   25.812788  307.400000  312.333636  142.200000  267.300767  104.400000   \n",
       "3   42.956849  294.727273  107.079495  596.545455  471.006659  134.636364   \n",
       "4  100.923832  369.052632  325.903782  286.526316  246.123359  137.894737   \n",
       "\n",
       "      elevsd                                         continents    dist  \\\n",
       "0  72.551472                                      Africa,Europe  global   \n",
       "1  68.946121  Africa,Asia,Europe,Australia,South America and...  global   \n",
       "2  59.672439                           Africa,Asia,NA,Australia  global   \n",
       "3  68.026866  Africa,Asia,NA,Australia,South America and the...  global   \n",
       "4  85.452322  Africa,NA,Asia,Europe,Australia,South America ...  global   \n",
       "\n",
       "   Red.List.status  \n",
       "0              NaN  \n",
       "1              NaN  \n",
       "2              NaN  \n",
       "3              NaN  \n",
       "4              NaN  \n",
       "\n",
       "[5 rows x 51 columns]"
      ]
     },
     "execution_count": 69,
     "metadata": {},
     "output_type": "execute_result"
    }
   ],
   "source": [
    "Africa_data = pd.read_csv(\"Africa_data.txt\", sep=\"\\t\", header=0)\n",
    "Africa_data.head()"
   ]
  },
  {
   "cell_type": "markdown",
   "id": "a6a81ef4",
   "metadata": {},
   "source": [
    "# Change Red List Status Labelling"
   ]
  },
  {
   "cell_type": "code",
   "execution_count": 70,
   "id": "7317dc85",
   "metadata": {},
   "outputs": [],
   "source": [
    "# Condition to identify rows where 'Red.List.status' is \"LR/nt\"\n",
    "condition = Africa_data['Red.List.status'] == \"LR/nt\"\n",
    "\n",
    "# Modify the values based on the condition\n",
    "Africa_data.loc[condition, 'Red.List.status'] = \"NT\"\n",
    "\n",
    "# Condition to identify rows where 'Red.List.status' is \"LR/nt\"\n",
    "condition = Africa_data['Red.List.status'] == \"LR/cd\"\n",
    "\n",
    "# Modify the values based on the condition\n",
    "Africa_data.loc[condition, 'Red.List.status'] = \"VU\"\n",
    "\n",
    "# Condition to identify rows where 'Red.List.status' is \"LR/nt\"\n",
    "condition = Africa_data['Red.List.status'] == \"LR/lc\"\n",
    "\n",
    "# Modify the values based on the condition\n",
    "Africa_data.loc[condition, 'Red.List.status'] = \"LC\""
   ]
  },
  {
   "cell_type": "markdown",
   "id": "551e5cad",
   "metadata": {},
   "source": [
    "# Remove some rows"
   ]
  },
  {
   "cell_type": "code",
   "execution_count": 71,
   "id": "cf5ec7d8",
   "metadata": {},
   "outputs": [],
   "source": [
    "# remove rows without a defined red list status\n",
    "filtered_Africa_data = Africa_data.dropna(subset=['Red.List.status'])\n",
    "\n",
    "# remove rows with fewer than 4 samples\n",
    "filtered_Africa_data = filtered_Africa_data[filtered_Africa_data['n.gps'] >= 4]\n"
   ]
  },
  {
   "cell_type": "markdown",
   "id": "87098998",
   "metadata": {},
   "source": [
    "# See how many observations belong in each category"
   ]
  },
  {
   "cell_type": "code",
   "execution_count": 72,
   "id": "e8f7a832",
   "metadata": {
    "scrolled": true
   },
   "outputs": [
    {
     "name": "stdout",
     "output_type": "stream",
     "text": [
      "  Red List Status  Count\n",
      "0              LC    984\n",
      "1              VU    543\n",
      "2              EN    388\n",
      "3              NT    166\n",
      "4              CR    114\n",
      "5              DD     51\n"
     ]
    }
   ],
   "source": [
    "status_counts = filtered_Africa_data['Red.List.status'].value_counts().reset_index()\n",
    "\n",
    "# Rename the columns for clarity\n",
    "status_counts.columns = ['Red List Status', 'Count']\n",
    "\n",
    "# Display the table\n",
    "print(status_counts)"
   ]
  },
  {
   "cell_type": "markdown",
   "id": "32b9b309",
   "metadata": {},
   "source": [
    "# Add variable indicating whether a species is LC or not LC"
   ]
  },
  {
   "cell_type": "code",
   "execution_count": 73,
   "id": "09491cdd",
   "metadata": {},
   "outputs": [],
   "source": [
    "filtered_Africa_data['Response'] = np.where(filtered_Africa_data['Red.List.status'] == 'LC', 'LC', 'NonLC')"
   ]
  },
  {
   "cell_type": "markdown",
   "id": "44a666ff",
   "metadata": {},
   "source": [
    "# Prepare dataset for training"
   ]
  },
  {
   "cell_type": "code",
   "execution_count": 74,
   "id": "b0503bd0",
   "metadata": {},
   "outputs": [],
   "source": [
    "# List of columns to remove\n",
    "columns_to_remove = ['name', 'n.gps', 'continents', 'dist', 'Red.List.status']\n",
    "\n",
    "# Removing columns using drop()\n",
    "X = filtered_Africa_data.drop(columns=columns_to_remove)\n",
    "\n",
    "# separe labels and features\n",
    "y = X['Response']\n",
    "X = X.drop('Response', axis=1)\n",
    "X.head()\n",
    "\n",
    "# Split the dataset into training, testing, and validation sets\n",
    "# NOTE: DO NOT TOUCH THE TESTING SET \n",
    "# NOTE: DO NOT CHANGE THESE RANDOM_STATE VARIABLES\n",
    "X_train, X_test_val, y_train, y_test_val = train_test_split(X, y, test_size=0.4, random_state=40)\n",
    "X_test, X_val, y_test, y_val = train_test_split(X_test_val, y_test_val, test_size=0.5, random_state=40)"
   ]
  },
  {
   "cell_type": "markdown",
   "id": "3c1cbb75",
   "metadata": {},
   "source": [
    "# Scale"
   ]
  },
  {
   "cell_type": "code",
   "execution_count": 86,
   "id": "f48f0ed9",
   "metadata": {},
   "outputs": [],
   "source": [
    "scaler = StandardScaler()\n",
    "X_train_scaled = scaler.fit_transform(X_train)\n",
    "X_val_scaled = scaler.transform(X_val)\n",
    "X_test_scaled = scaler.transform(X_test)\n",
    "X_scaled = scaler.transform(X)"
   ]
  },
  {
   "cell_type": "markdown",
   "id": "e351060a",
   "metadata": {},
   "source": [
    "# Fit, and check OOB Score"
   ]
  },
  {
   "cell_type": "code",
   "execution_count": 87,
   "id": "939f9813",
   "metadata": {},
   "outputs": [
    {
     "name": "stdout",
     "output_type": "stream",
     "text": [
      "0.8173719376391982\n"
     ]
    }
   ],
   "source": [
    "randomforest = RandomForestClassifier(n_estimators=1000, oob_score=True)\n",
    "randomforest.fit(X_train_scaled, y_train)\n",
    "print(randomforest.oob_score_)"
   ]
  },
  {
   "cell_type": "markdown",
   "id": "7c9bd547",
   "metadata": {},
   "source": [
    "# Make Predictions"
   ]
  },
  {
   "cell_type": "code",
   "execution_count": 88,
   "id": "6ad21a93",
   "metadata": {},
   "outputs": [
    {
     "name": "stdout",
     "output_type": "stream",
     "text": [
      "Accuracy: 0.82\n"
     ]
    },
    {
     "data": {
      "text/plain": [
       "<sklearn.metrics._plot.confusion_matrix.ConfusionMatrixDisplay at 0x7fd0115020e0>"
      ]
     },
     "execution_count": 88,
     "metadata": {},
     "output_type": "execute_result"
    },
    {
     "data": {
      "image/png": "[encoded data removed]",
      "text/plain": [
       "<Figure size 640x480 with 2 Axes>"
      ]
     },
     "metadata": {},
     "output_type": "display_data"
    }
   ],
   "source": [
    "# Make predictions\n",
    "y_pred_val = randomforest.predict(X_val_scaled)\n",
    "\n",
    "# Fit the model\n",
    "accuracy = accuracy_score(y_val, y_pred_val)\n",
    "\n",
    "# Check accuracy\n",
    "# Evaluate the model\n",
    "accuracy = accuracy_score(y_val, y_pred_val)\n",
    "\n",
    "print(f'Accuracy: {accuracy:.2f}')\n",
    "\n",
    "ConfusionMatrixDisplay.from_estimator(\n",
    "    randomforest, X_val_scaled, y_val)"
   ]
  },
  {
   "cell_type": "markdown",
   "id": "f75caf28",
   "metadata": {},
   "source": [
    "# Impurity variable Importance"
   ]
  },
  {
   "cell_type": "code",
   "execution_count": 97,
   "id": "872e5bc6",
   "metadata": {},
   "outputs": [
    {
     "data": {
      "image/png": "[encoded data removed]",
      "text/plain": [
       "<Figure size 640x480 with 1 Axes>"
      ]
     },
     "metadata": {},
     "output_type": "display_data"
    }
   ],
   "source": [
    "# Create a series containing feature importances from the model and feature names from the training data\n",
    "feature_importances = pd.Series(randomforest.feature_importances_, index=X_train.columns).sort_values(ascending=False)[0:5]\n",
    "\n",
    "# Plot a simple bar chart\n",
    "feature_importances.plot.bar();"
   ]
  },
  {
   "cell_type": "markdown",
   "id": "67b1ff4b",
   "metadata": {},
   "source": [
    "# Permutation Variable Importance"
   ]
  },
  {
   "cell_type": "code",
   "execution_count": 96,
   "id": "f4bd714d",
   "metadata": {},
   "outputs": [
    {
     "data": {
      "image/png": "[encoded data removed]",
      "text/plain": [
       "<Figure size 640x480 with 1 Axes>"
      ]
     },
     "metadata": {},
     "output_type": "display_data"
    }
   ],
   "source": [
    "permutation_feature_importances = permutation_importance(randomforest, X_train_scaled, y_train,\n",
    "                                        n_repeats=30,\n",
    "                                        random_state=0)\n",
    "\n",
    "# Create a series containing feature importances from the model and feature names from the training data\n",
    "plot_permutation_feature_importances = pd.Series(permutation_feature_importances['importances_mean'], index=X_train.columns).sort_values(ascending=False)[0:5]\n",
    "\n",
    "# Plot a simple bar chart\n",
    "plot_permutation_feature_importances.plot.bar();"
   ]
  }
 ],
 "metadata": {
  "kernelspec": {
   "display_name": "Python 3 (ipykernel)",
   "language": "python",
   "name": "python3"
  },
  "language_info": {
   "codemirror_mode": {
    "name": "ipython",
    "version": 3
   },
   "file_extension": ".py",
   "mimetype": "text/x-python",
   "name": "python",
   "nbconvert_exporter": "python",
   "pygments_lexer": "ipython3",
   "version": "3.10.8"
  }
 },
 "nbformat": 4,
 "nbformat_minor": 5
}
